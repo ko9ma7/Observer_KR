{
 "cells": [
  {
   "cell_type": "code",
   "execution_count": 1,
   "metadata": {},
   "outputs": [],
   "source": [
    "import sys\n",
    "from time import sleep\n",
    "import urllib.request as ur\n",
    "\n",
    "from rich import print\n",
    "\n",
    "sys.path.append('..')\n",
    "from base import BaseCralwer, tryfindelements\n",
    "from utils import parsingFile, getLogger, tm2int\n",
    "from urls import COUPANG_LOGIN_URL, COUPANG_SEARCH_URL\n",
    "from selenium.common.exceptions import NoSuchElementException\n",
    "\n",
    "from selenium import webdriver"
   ]
  },
  {
   "cell_type": "markdown",
   "metadata": {},
   "source": [
    "## Base"
   ]
  },
  {
   "cell_type": "code",
   "execution_count": 111,
   "metadata": {},
   "outputs": [],
   "source": [
    "driver = webdriver.Chrome('/home/gunmo/public/chromedriver')\n",
    "driver.implicitly_wait(1)\n",
    "\n",
    "login_key = parsingFile('../config/login')\n",
    "prod_key = parsingFile('../config/product')\n",
    "findE_id = driver.find_element_by_id\n",
    "findE_xp = driver.find_element_by_xpath\n",
    "findE_lt = driver.find_element_by_link_text\n",
    "findE_cn = driver.find_element_by_class_name\n",
    "findE_cs = driver.find_element_by_css_selector\n",
    "\n",
    "findEs_cn = driver.find_elements_by_class_name\n",
    "findEs_cs = driver.find_elements_by_css_selector"
   ]
  },
  {
   "cell_type": "markdown",
   "metadata": {},
   "source": [
    "## Login"
   ]
  },
  {
   "cell_type": "code",
   "execution_count": 112,
   "metadata": {},
   "outputs": [],
   "source": [
    "driver.get(COUPANG_LOGIN_URL)"
   ]
  },
  {
   "cell_type": "code",
   "execution_count": 113,
   "metadata": {},
   "outputs": [],
   "source": [
    "findE_id('login-email-input').send_keys(login_key['coupang']['id'])\n",
    "findE_id('login-password-input').send_keys(login_key['coupang']['pw'])"
   ]
  },
  {
   "cell_type": "code",
   "execution_count": 114,
   "metadata": {},
   "outputs": [],
   "source": [
    "findE_cn('login__button').click()"
   ]
  },
  {
   "cell_type": "markdown",
   "metadata": {},
   "source": [
    "## search_products"
   ]
  },
  {
   "cell_type": "code",
   "execution_count": 129,
   "metadata": {},
   "outputs": [],
   "source": [
    "from urllib import parse\n",
    "url = parse.urlparse(COUPANG_SEARCH_URL.format(keyword)) "
   ]
  },
  {
   "cell_type": "code",
   "execution_count": 130,
   "metadata": {},
   "outputs": [
    {
     "data": {
      "text/plain": [
       "'q=%EB%8B%8C%ED%85%90%EB%8F%84+%EC%8A%A4%EC%9C%84%EC%B9%98&channel=user'"
      ]
     },
     "execution_count": 130,
     "metadata": {},
     "output_type": "execute_result"
    }
   ],
   "source": [
    "query = parse.parse_qs(url.query)\n",
    "parse.urlencode(query, doseq=True)"
   ]
  },
  {
   "cell_type": "code",
   "execution_count": 115,
   "metadata": {},
   "outputs": [],
   "source": [
    "driver.get(COUPANG_SEARCH_URL.format(prod_key['product1']['keyword']))"
   ]
  },
  {
   "cell_type": "code",
   "execution_count": 116,
   "metadata": {},
   "outputs": [
    {
     "data": {
      "text/plain": [
       "'https://www.coupang.com/np/search?component=&q=%EB%8B%8C%ED%85%90%EB%8F%84%20%EC%8A%A4%EC%9C%84%EC%B9%98&channel=user'"
      ]
     },
     "execution_count": 116,
     "metadata": {},
     "output_type": "execute_result"
    }
   ],
   "source": [
    "driver.current_url"
   ]
  },
  {
   "cell_type": "code",
   "execution_count": 122,
   "metadata": {},
   "outputs": [
    {
     "data": {
      "text/plain": [
       "\"https://www.coupang.com/np/search?component=&q=b'\\\\xb4\\\\xd1\\\\xc5\\\\xd9\\\\xb5\\\\xb5 \\\\xbd\\\\xba\\\\xc0\\\\xa7\\\\xc4\\\\xa1'&channel=user\""
      ]
     },
     "execution_count": 122,
     "metadata": {},
     "output_type": "execute_result"
    }
   ],
   "source": [
    "keyword = prod_key['product1']['keyword']\n",
    "COUPANG_SEARCH_URL.format(keyword)"
   ]
  },
  {
   "cell_type": "code",
   "execution_count": 78,
   "metadata": {},
   "outputs": [],
   "source": [
    "products = []\n",
    "prices = []\n",
    "links = []"
   ]
  },
  {
   "cell_type": "code",
   "execution_count": null,
   "metadata": {},
   "outputs": [],
   "source": [
    "pages = 10\n",
    "while pages:\n",
    "    t_pro = findEs_cs(\"a > dl > dd > div > div.name\")\n",
    "    t_pri = findEs_cs(\"div.price > em > strong\")\n",
    "    t_links = findEs_cs(\"form > div > div > ul > li > a\")\n",
    "    \n",
    "    for prod, price, link in zip(t_pro, t_pri, t_links):\n",
    "        price = tm2int(price.text)\n",
    "        if price > prod_key['product1']['high_price']: continue\n",
    "        if price < prod_key['product1']['low_price']: continue\n",
    "        products.append(prod.text)\n",
    "        prices.append(price)\n",
    "        links.append(link.get_attribute(\"href\"))\n",
    "    \n",
    "    findE_cn(\"btn-next\").click()\n",
    "    pages -= 1"
   ]
  },
  {
   "cell_type": "markdown",
   "metadata": {},
   "source": [
    "## check_products"
   ]
  },
  {
   "cell_type": "markdown",
   "metadata": {},
   "source": [
    "### case 1: 구매 가능 상품"
   ]
  },
  {
   "cell_type": "code",
   "execution_count": 94,
   "metadata": {},
   "outputs": [],
   "source": [
    "driver.get(\"https://www.coupang.com/vp/products/226814044?itemId=718780744&vendorItemId=4818819507&q=%EB%8B%8C%ED%85%90%EB%8F%84+%EC%8A%A4%EC%9C%84%EC%B9%98&itemsCount=36&searchId=ded2cdf81db24be1bfe251bcf319e11e&rank=377&isAddedCart=\")"
   ]
  },
  {
   "cell_type": "code",
   "execution_count": 83,
   "metadata": {},
   "outputs": [
    {
     "data": {
      "text/plain": [
       "[<selenium.webdriver.remote.webelement.WebElement (session=\"c5d0e9ad0613bcdf459672979208b80d\", element=\"0967c621-2d09-45f0-a689-6c7cb55283b8\")>]"
      ]
     },
     "execution_count": 83,
     "metadata": {},
     "output_type": "execute_result"
    }
   ],
   "source": [
    "findEs_cn(\"prod-buy-btn\")"
   ]
  },
  {
   "cell_type": "code",
   "execution_count": 95,
   "metadata": {},
   "outputs": [
    {
     "data": {
      "text/plain": [
       "'바로구매'"
      ]
     },
     "execution_count": 95,
     "metadata": {},
     "output_type": "execute_result"
    }
   ],
   "source": [
    "findE_cn(\"prod-buy-btn\").text"
   ]
  },
  {
   "cell_type": "markdown",
   "metadata": {},
   "source": [
    "### case 2: 구매 불가능 상품"
   ]
  },
  {
   "cell_type": "code",
   "execution_count": 96,
   "metadata": {},
   "outputs": [],
   "source": [
    "driver.get(\"https://www.coupang.com/vp/products/1384804427?vendorItemId=70413795361&isAddedCart=\")"
   ]
  },
  {
   "cell_type": "code",
   "execution_count": 85,
   "metadata": {},
   "outputs": [
    {
     "data": {
      "text/plain": [
       "[<selenium.webdriver.remote.webelement.WebElement (session=\"c5d0e9ad0613bcdf459672979208b80d\", element=\"7ba31094-108b-446f-a54a-777dafb18a2b\")>]"
      ]
     },
     "execution_count": 85,
     "metadata": {},
     "output_type": "execute_result"
    }
   ],
   "source": [
    "findEs_cn(\"prod-buy-btn\")"
   ]
  },
  {
   "cell_type": "code",
   "execution_count": 97,
   "metadata": {},
   "outputs": [
    {
     "data": {
      "text/plain": [
       "''"
      ]
     },
     "execution_count": 97,
     "metadata": {},
     "output_type": "execute_result"
    }
   ],
   "source": [
    "findE_cn(\"prod-buy-btn\").text"
   ]
  }
 ],
 "metadata": {
  "kernelspec": {
   "display_name": "Python 3",
   "language": "python",
   "name": "python3"
  },
  "language_info": {
   "codemirror_mode": {
    "name": "ipython",
    "version": 3
   },
   "file_extension": ".py",
   "mimetype": "text/x-python",
   "name": "python",
   "nbconvert_exporter": "python",
   "pygments_lexer": "ipython3",
   "version": "3.8.3"
  }
 },
 "nbformat": 4,
 "nbformat_minor": 4
}
